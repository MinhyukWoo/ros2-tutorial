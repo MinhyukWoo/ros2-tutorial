{
 "cells": [
  {
   "cell_type": "code",
   "execution_count": 1,
   "id": "e70f9f85",
   "metadata": {},
   "outputs": [],
   "source": [
    "import rclpy as rp\n",
    "from turtlesim.srv import TeleportAbsolute\n",
    "\n",
    "rp.init()"
   ]
  },
  {
   "cell_type": "code",
   "execution_count": 2,
   "id": "3acc4888",
   "metadata": {},
   "outputs": [
    {
     "data": {
      "text/plain": [
       "<rclpy.node.Node at 0x7f24c582f830>"
      ]
     },
     "execution_count": 2,
     "metadata": {},
     "output_type": "execute_result"
    }
   ],
   "source": [
    "test_node = rp.create_node(\"client_test\")\n",
    "test_node"
   ]
  },
  {
   "cell_type": "code",
   "execution_count": 3,
   "id": "f6b87fc5",
   "metadata": {},
   "outputs": [
    {
     "data": {
      "text/plain": [
       "<rclpy.client.Client at 0x7f24a422fdd0>"
      ]
     },
     "execution_count": 3,
     "metadata": {},
     "output_type": "execute_result"
    }
   ],
   "source": [
    "client = test_node.create_client(TeleportAbsolute, \"/turtle1/teleport_absolute\")\n",
    "client"
   ]
  },
  {
   "cell_type": "code",
   "execution_count": 4,
   "id": "80048690",
   "metadata": {},
   "outputs": [
    {
     "data": {
      "text/plain": [
       "turtlesim.srv.TeleportAbsolute_Request(x=0.0, y=0.0, theta=0.0)"
      ]
     },
     "execution_count": 4,
     "metadata": {},
     "output_type": "execute_result"
    }
   ],
   "source": [
    "request = TeleportAbsolute.Request()\n",
    "request"
   ]
  },
  {
   "cell_type": "code",
   "execution_count": 5,
   "id": "f3f9326f",
   "metadata": {},
   "outputs": [
    {
     "data": {
      "text/plain": [
       "turtlesim.srv.TeleportAbsolute_Request(x=2.0, y=3.0, theta=2.0)"
      ]
     },
     "execution_count": 5,
     "metadata": {},
     "output_type": "execute_result"
    }
   ],
   "source": [
    "request.x = 2.\n",
    "request.y = 3.\n",
    "request.theta=2.0\n",
    "request"
   ]
  },
  {
   "cell_type": "code",
   "execution_count": 7,
   "id": "770c59f3",
   "metadata": {},
   "outputs": [
    {
     "data": {
      "text/plain": [
       "<rclpy.task.Future at 0x7f24894107d0>"
      ]
     },
     "execution_count": 7,
     "metadata": {},
     "output_type": "execute_result"
    }
   ],
   "source": [
    "while not client.wait_for_service(timeout_sec=1.0):\n",
    "    print(\"Wait for service\")\n",
    "\n",
    "client.call_async(request)"
   ]
  },
  {
   "cell_type": "code",
   "execution_count": null,
   "id": "22101dd3",
   "metadata": {},
   "outputs": [],
   "source": []
  }
 ],
 "metadata": {
  "kernelspec": {
   "display_name": "Python 3 (ipykernel)",
   "language": "python",
   "name": "python3"
  },
  "language_info": {
   "codemirror_mode": {
    "name": "ipython",
    "version": 3
   },
   "file_extension": ".py",
   "mimetype": "text/x-python",
   "name": "python",
   "nbconvert_exporter": "python",
   "pygments_lexer": "ipython3",
   "version": "3.12.3"
  }
 },
 "nbformat": 4,
 "nbformat_minor": 5
}
